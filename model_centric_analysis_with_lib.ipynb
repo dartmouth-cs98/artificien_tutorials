{
 "cells": [
  {
   "cell_type": "markdown",
   "metadata": {},
   "source": [
    "# Artificien Sample Model Upload\n",
    "Here, we demonstrate how to create a machine learning model and upload it so that it may be trained on client devices using federated learning.\n",
    "We create a simple linear regression model below, defined in PyTorch syntax, to predict a single variable 'Y' using another variable 'X'. We then upload the model to our 'PyGrid' node. Models sent to this PyGrid node will be downloaded by client devices (iPhones, Androids, etc.) and trained on local data. Each time a device or set of devices trains your model, the model stored on the PyGrid node will be updated, to reflect the newly improved model.\n",
    "\n",
    "As soon as you upload the below tutorial model, you'll find it on artificien.com on your 'models' page. There, you'll be able to check the model progress and download the newly trained model once training is complete.\n",
    "\n",
    "**PLEASE READ**: \n",
    "- Because this is a tutorial and this model is not built to make predictions on real data, models uploaded via this tutorial will not actually be sent to client devices.\n",
    "\n",
    "- You cannot save changes made to this tutorial - this file is shared by all Artificien users and cannot be altered. To create your own notebooks (which can be edited and saved), create a new notebook in your root ('/') directory, or make a copy of this notebook and place it in your root directory.\n",
    "\n",
    "- To build models for deployment to actual devices running Artificien partner apps, ensure that your model can train on and make predictions using the provided [sample dataset](../sample_data) corresponding to the type of data you'd like to build on top of."
   ]
  },
  {
   "cell_type": "code",
   "execution_count": 1,
   "metadata": {},
   "outputs": [
    {
     "name": "stdout",
     "output_type": "stream",
     "text": [
      "Setting up Sandbox...\n",
      "Done!\n"
     ]
    }
   ],
   "source": [
    "from artificienlib import syftfunctions as sf\n",
    "import torch as th\n",
    "from torch import nn\n",
    "\n",
    "import syft as sy\n",
    "from syft.federated.fl_client import FLClient\n",
    "from syft.federated.fl_job import FLJob\n",
    "from syft.grid.clients.model_centric_fl_client import ModelCentricFLClient"
   ]
  },
  {
   "cell_type": "code",
   "execution_count": 2,
   "metadata": {},
   "outputs": [],
   "source": [
    "class LinearRegression(th.nn.Module):    \n",
    "    \n",
    "    def __init__(self):\n",
    "        super(LinearRegression, self).__init__()\n",
    "        self.linear = th.nn.Linear(1, 1)    \n",
    "    \n",
    "    def forward(self, x):\n",
    "        y_pred = self.linear(x)\n",
    "        return y_pred\n",
    "    \n",
    "model = LinearRegression()"
   ]
  },
  {
   "cell_type": "code",
   "execution_count": 3,
   "metadata": {},
   "outputs": [],
   "source": [
    "X = th.randn(1, 1)\n",
    "y = nn.functional.one_hot(th.tensor([2]))\n",
    "model_params, training_plan = sf.def_training_plan(model, X, y, {\"loss\":sf.mse_with_logits})"
   ]
  },
  {
   "cell_type": "code",
   "execution_count": 4,
   "metadata": {},
   "outputs": [],
   "source": [
    "avg_plan = sf.def_avg_plan(model_params)"
   ]
  },
  {
   "cell_type": "code",
   "execution_count": 5,
   "metadata": {},
   "outputs": [],
   "source": [
    "grid = sf.artificien_connect()"
   ]
  },
  {
   "cell_type": "code",
   "execution_count": 6,
   "metadata": {},
   "outputs": [
    {
     "name": "stdout",
     "output_type": "stream",
     "text": [
      "Host response: {'type': 'model-centric/host-training', 'data': {'status': 'success'}}\n"
     ]
    }
   ],
   "source": [
    "sf.send_model(name=\"lin_test\", version=\"0.1.0\", batch_size=1, learning_rate=0.2, max_updates=10, model_params=model_params, grid=grid, training_plan=training_plan, avg_plan=avg_plan)"
   ]
  }
 ],
 "metadata": {
  "kernelspec": {
   "display_name": "Python 3",
   "language": "python",
   "name": "python3"
  },
  "language_info": {
   "codemirror_mode": {
    "name": "ipython",
    "version": 3
   },
   "file_extension": ".py",
   "mimetype": "text/x-python",
   "name": "python",
   "nbconvert_exporter": "python",
   "pygments_lexer": "ipython3",
   "version": "3.8.5"
  }
 },
 "nbformat": 4,
 "nbformat_minor": 4
}
